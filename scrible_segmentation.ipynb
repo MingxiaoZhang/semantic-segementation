{
 "cells": [
  {
   "cell_type": "code",
   "execution_count": 14,
   "id": "initial_id",
   "metadata": {
    "collapsed": true,
    "ExecuteTime": {
     "end_time": "2023-12-17T01:56:19.847382500Z",
     "start_time": "2023-12-17T01:56:19.188375100Z"
    }
   },
   "outputs": [],
   "source": [
    "import xml.etree.ElementTree as ET\n",
    "import os\n",
    "import cv2\n",
    "import matplotlib.pyplot as plt\n",
    "import matplotlib.patches as patches\n",
    "import numpy as np\n",
    "import torch\n",
    "import torch.nn as nn\n",
    "import torch.optim as optim\n",
    "from torch.utils.data import DataLoader, Dataset\n",
    "from torchvision import transforms\n",
    "from tqdm import tqdm\n",
    "from PIL import Image\n",
    "from sklearn.model_selection import train_test_split"
   ]
  },
  {
   "cell_type": "code",
   "execution_count": 15,
   "outputs": [],
   "source": [
    "class_mapping = {\n",
    "    'person': 0,\n",
    "    'bird': 1,\n",
    "    'cat': 2,\n",
    "    'cow': 3,\n",
    "    'dog': 4,\n",
    "    'horse': 5,\n",
    "    'sheep': 6,\n",
    "    'aeroplane': 7,\n",
    "    'bicycle': 8,\n",
    "    'boat': 9,\n",
    "    'bus': 10,\n",
    "    'car': 11,\n",
    "    'motorbike': 12,\n",
    "    'train': 13,\n",
    "    'bottle': 14,\n",
    "    'chair': 15,\n",
    "    'diningtable': 16,\n",
    "    'pottedplant': 17,\n",
    "    'sofa': 18,\n",
    "    'tvmonitor': 19,\n",
    "    'background': 20,\n",
    "    'void': 255\n",
    "}"
   ],
   "metadata": {
    "collapsed": false,
    "ExecuteTime": {
     "end_time": "2023-12-17T01:56:20.664695200Z",
     "start_time": "2023-12-17T01:56:20.650699Z"
    }
   },
   "id": "1d689f2920cd0a61"
  },
  {
   "cell_type": "code",
   "execution_count": 16,
   "outputs": [],
   "source": [
    "def read_scribble_xml(xml_file):\n",
    "    #  Parse XML into Element Tree\n",
    "    tree = ET.parse(xml_file)\n",
    "    root = tree.getroot()\n",
    "\n",
    "    #  Read meta data\n",
    "    filename = root.find('filename').text\n",
    "    width = int(root.find('size/width').text)\n",
    "    height = int(root.find('size/height').text)\n",
    "    depth = int(root.find('size/depth').text)\n",
    "\n",
    "    scribbles = []\n",
    "    #  Read all tags\n",
    "    for polygon in root.findall('polygon'):\n",
    "        tag = polygon.find('tag').text\n",
    "        #  Read all points of this polygon(tag)\n",
    "        points = [(int(point.find('X').text), int(point.find('Y').text)) for point in polygon.findall('point')]\n",
    "\n",
    "        scribbles.append({'tag': tag, 'points': points})\n",
    "    \n",
    "    return filename, width, height, depth, scribbles"
   ],
   "metadata": {
    "collapsed": false,
    "ExecuteTime": {
     "end_time": "2023-12-17T01:56:22.245042500Z",
     "start_time": "2023-12-17T01:56:22.225941400Z"
    }
   },
   "id": "ad03a895eb280c5d"
  },
  {
   "cell_type": "code",
   "execution_count": 23,
   "outputs": [],
   "source": [
    "# Define dataset\n",
    "class ScribbleDataset(Dataset):\n",
    "    def __init__(self, image_dir, xml_dir, xml_files, transform=None):\n",
    "        self.image_dir = image_dir\n",
    "        self.xml_files = xml_files\n",
    "        self.transform = transform\n",
    "        self.xml_dir = xml_dir\n",
    "\n",
    "    def __len__(self):\n",
    "        return len(self.xml_files)\n",
    "\n",
    "    def __getitem__(self, idx):\n",
    "        xml_file = self.xml_files[idx]\n",
    "        xml_path = os.path.join(self.xml_dir, xml_file)\n",
    "        image_path = os.path.join(self.image_dir, xml_file.replace(\".xml\", \".jpg\"))\n",
    "\n",
    "        filename, width, height, scribbles = read_scribble_xml(xml_path)\n",
    "        image = Image.open(image_path)\n",
    "\n",
    "        sample = {'image': image, 'scribbles': scribbles}\n",
    "\n",
    "        if self.transform:\n",
    "            sample = self.transform(sample)\n",
    "\n",
    "        return sample\n"
   ],
   "metadata": {
    "collapsed": false,
    "ExecuteTime": {
     "end_time": "2023-12-17T02:00:42.161634700Z",
     "start_time": "2023-12-17T02:00:42.148627900Z"
    }
   },
   "id": "ebc222be7c187739"
  },
  {
   "cell_type": "code",
   "execution_count": 26,
   "outputs": [],
   "source": [
    "class ToTensor(object):\n",
    "    def __call__(self, sample):\n",
    "        image, scribbles = sample['image'], sample['scribbles']\n",
    "\n",
    "        # Convert image to tensor\n",
    "        image = transforms.Compose([\n",
    "            transforms.RandomHorizontalFlip(),\n",
    "            transforms.ToTensor(),\n",
    "            transforms.Normalize((0.5, 0.5, 0.5), (0.5, 0.5, 0.5))])(image)\n",
    "\n",
    "        return {'image': image, 'scribbles': scribbles}"
   ],
   "metadata": {
    "collapsed": false,
    "ExecuteTime": {
     "end_time": "2023-12-17T02:00:56.012388400Z",
     "start_time": "2023-12-17T02:00:55.989384300Z"
    }
   },
   "id": "d01eeb3821ffc4f8"
  },
  {
   "cell_type": "code",
   "execution_count": 27,
   "outputs": [],
   "source": [
    "# Set up dataset and dataloader\n",
    "xml_dir = \"scribble\"\n",
    "image_dir = \"train_JPEGImages\"\n",
    "xml_list = os.listdir(xml_dir)\n",
    "transform = transforms.Compose([ToTensor()])\n",
    "train_data, val_data = train_test_split(xml_list, test_size=0.1, random_state=1)\n",
    "train_dataset = ScribbleDataset(image_dir=image_dir, xml_dir=xml_dir, xml_files=train_data, transform=transform)\n",
    "val_dataset = ScribbleDataset(image_dir=image_dir, xml_dir=xml_dir, xml_files=val_data, transform=transform)\n",
    "train_image_dataloader = DataLoader(train_dataset, batch_size=16, shuffle=True)\n",
    "val_image_dataloader = DataLoader(val_dataset, batch_size=16, shuffle=False)\n"
   ],
   "metadata": {
    "collapsed": false,
    "ExecuteTime": {
     "end_time": "2023-12-17T02:00:56.763759Z",
     "start_time": "2023-12-17T02:00:56.724758Z"
    }
   },
   "id": "c170f2412f1e9f42"
  },
  {
   "cell_type": "code",
   "execution_count": null,
   "outputs": [],
   "source": [
    "\n"
   ],
   "metadata": {
    "collapsed": false
   },
   "id": "7c3a791d50600a1"
  }
 ],
 "metadata": {
  "kernelspec": {
   "display_name": "Python 3",
   "language": "python",
   "name": "python3"
  },
  "language_info": {
   "codemirror_mode": {
    "name": "ipython",
    "version": 2
   },
   "file_extension": ".py",
   "mimetype": "text/x-python",
   "name": "python",
   "nbconvert_exporter": "python",
   "pygments_lexer": "ipython2",
   "version": "2.7.6"
  }
 },
 "nbformat": 4,
 "nbformat_minor": 5
}
