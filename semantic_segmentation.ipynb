{
  "cells": [
    {
      "cell_type": "markdown",
      "id": "6e9c25fd",
      "metadata": {
        "ExecuteTime": {
          "end_time": "2023-12-19T04:23:50.278284200Z",
          "start_time": "2023-12-19T04:23:50.271927900Z"
        },
        "collapsed": true,
        "id": "6e9c25fd"
      },
      "source": [
        "# Weakly-supervised semantic segmentation with seeds and boxes\n",
        "Claire Sheng (y44sheng@uwaterloo.ca), Mingxiao Zhang (m468zhan@uwaterloo.ca), Shuyao Shi()"
      ]
    },
    {
      "cell_type": "markdown",
      "id": "7ebdd321",
      "metadata": {
        "id": "7ebdd321"
      },
      "source": [
        "### Abstract\n",
        "The project aims to develop a robust weakly-supervised semantic segmentation model with seeds and boxes where ground truth annotations are unavailable. Our main focus is to design different models and loss functions to tackle this problem. We experimented our models on both segmentations with seeds and boxes to compare the outcomes with different data types.\n",
        "\n",
        "\n",
        "We implemnented a U-net model, which captures features in the contracting encoding path and reconstruct the image based on the features in the expansive decoding path. The U-shaped structure of U-net perservses high-resolution features and help preventing losing key features along the path. For the encoder we employed ResNet18, an ImageNet pretrained model that could help us simplify the training task. For loss functions, we have experimented with various techniques including corss entropy over seeds and pairewise regularization loss for seed data and dice loss for box level data. Cross entropy over seeds prioritize segments associated with the provided seeds while pairewise regularization loss encourages consistency in predictions between neighboring pixels. We have also compared different testing results with the loss functions. Overall we evaluated the trade-offs, strengths, and limitations of the U-Net model in weakly-supervised training with seed and box level data, as well as the impact of different loss functions."
      ]
    },
    {
      "cell_type": "markdown",
      "id": "48fe2b00",
      "metadata": {
        "id": "48fe2b00"
      },
      "source": [
        " ### Team members and contributions\n",
        " * Claire Sheng (y44sheng@uwaterloo.ca):\n",
        " * Mingxiao Zhang (m468zhan@uwaterloo.ca): Created model for UNet architecture, processed and experimented with box-level object data for image segmentation.\n",
        " * Shuyao Shi():"
      ]
    },
    {
      "cell_type": "markdown",
      "id": "c59cbf72",
      "metadata": {
        "id": "c59cbf72"
      },
      "source": [
        "### Code libraries\n",
        "* xml.etree.ElementTree: parse XML files\n",
        "* os: handle file paths, perform various file system operations\n",
        "* numpy: handle numerical operations\n",
        "* torch: provides tensor operations\n",
        "* torch.nn: offer neural network-related functionalities\n",
        "* torch.optim: provide optimization algorithms necessary for updating the model parameters during training\n",
        "* torch.utils.data.DataLoader & Dataset: handle datasets and data loading\n",
        "* transforms from torchvision: provides a set of image transformations essential for preprocessing data\n",
        "* models from torchvision: offer pre-trained deep learning models including ResNet\n",
        "* tqdm: provide a convenient progress bar for tracking iterations during training a deep learning model\n",
        "* PIL: enable image opening, manipulation, and conversion\n",
        "* matplotlib: visualize images, model outputs\n",
        "* train_test_split from sklearn.model_selection: split of your dataset into training and validation sets\n",
        "* ToPILImage from torchvision.transforms: convert a PyTorch tensor or numpy array to a PIL Image\n",
        "* matplotlib.colors & matplotlib.pyplot: customize colors and create visualizations\n",
        "* relu from torch.nn.functional: use ReLU(rectified linear activation function)\n",
        "* randint from random: generating random integers\n"
      ]
    },
    {
      "cell_type": "markdown",
      "id": "fe1d7686",
      "metadata": {
        "id": "fe1d7686"
      },
      "source": [
        "## Weakly-supervised Semantic Segmentation with Seeds"
      ]
    },
    {
      "cell_type": "markdown",
      "id": "5689883a",
      "metadata": {
        "id": "5689883a"
      },
      "source": [
        "### Import Code Libraries"
      ]
    },
    {
      "cell_type": "code",
      "execution_count": 13,
      "id": "26d669b3",
      "metadata": {
        "id": "26d669b3"
      },
      "outputs": [],
      "source": [
        "import xml.etree.ElementTree as ET\n",
        "import os\n",
        "import numpy as np\n",
        "import torch\n",
        "import torch.nn as nn\n",
        "import torch.optim as optim\n",
        "from torch.utils.data import DataLoader, Dataset\n",
        "from torchvision import transforms\n",
        "from torchvision import models\n",
        "from tqdm import tqdm\n",
        "from PIL import Image\n",
        "import torch.nn.functional as F\n",
        "from sklearn.model_selection import train_test_split\n",
        "from torchvision.transforms import ToPILImage\n",
        "import matplotlib.colors as mcolors\n",
        "import matplotlib.pyplot as plt\n",
        "from torch.nn.functional import relu\n",
        "from random import randint"
      ]
    },
    {
      "cell_type": "markdown",
      "id": "05ed16bc",
      "metadata": {
        "id": "05ed16bc"
      },
      "source": [
        "### Preprocess data"
      ]
    },
    {
      "cell_type": "code",
      "execution_count": 14,
      "id": "1d689f2920cd0a61",
      "metadata": {
        "ExecuteTime": {
          "end_time": "2023-12-19T04:23:50.278284200Z",
          "start_time": "2023-12-19T04:23:50.274434600Z"
        },
        "id": "1d689f2920cd0a61"
      },
      "outputs": [],
      "source": [
        "class_mapping = {\n",
        "    'person': 0,\n",
        "    'bird': 1,\n",
        "    'cat': 2,\n",
        "    'cow': 3,\n",
        "    'dog': 4,\n",
        "    'horse': 5,\n",
        "    'sheep': 6,\n",
        "    'aeroplane': 7,\n",
        "    'plane': 7,\n",
        "    'bike': 8,\n",
        "    'bicycle':8,\n",
        "    'boat': 9,\n",
        "    'bus': 10,\n",
        "    'car': 11,\n",
        "    'motorbike': 12,\n",
        "    'train': 13,\n",
        "    'bottle': 14,\n",
        "    'chair': 15,\n",
        "    'diningtable': 16,\n",
        "    'table':16,\n",
        "    'pottedplant': 17,\n",
        "    'plant': 17,\n",
        "    'sofa': 18,\n",
        "    'tvmonitor': 19,\n",
        "    'monitor': 19,\n",
        "    'background': 20,\n",
        "    'void': 255\n",
        "}"
      ]
    },
    {
      "cell_type": "code",
      "execution_count": 15,
      "id": "ad03a895eb280c5d",
      "metadata": {
        "ExecuteTime": {
          "end_time": "2023-12-19T04:23:50.287592600Z",
          "start_time": "2023-12-19T04:23:50.280284200Z"
        },
        "id": "ad03a895eb280c5d"
      },
      "outputs": [],
      "source": [
        "def read_scribble_xml(xml_file):\n",
        "    #  Parse XML into Element Tree\n",
        "    tree = ET.parse(xml_file)\n",
        "    root = tree.getroot()\n",
        "\n",
        "    #  Read meta data\n",
        "    filename = root.find('filename').text\n",
        "    width = int(root.find('size/width').text)\n",
        "    height = int(root.find('size/height').text)\n",
        "\n",
        "    #  Read all points and assign them to the tensor\n",
        "    tensor_categories = torch.zeros((22, 224, 224))\n",
        "\n",
        "\n",
        "    polygons = root.findall('polygon')\n",
        "    for polygon in polygons:\n",
        "        tag = polygon.find('tag').text\n",
        "        points = np.array([(min(int(int(point.find('X').text)/width*224), 223), min(int(int(point.find('Y').text)/height*224),223)) for point in polygon.findall('point')])\n",
        "        tensor_categories[class_mapping[tag], points[:, 1], points[:, 0]] = 1\n",
        "\n",
        "    return filename, tensor_categories\n"
      ]
    },
    {
      "cell_type": "code",
      "execution_count": 16,
      "id": "ebc222be7c187739",
      "metadata": {
        "ExecuteTime": {
          "end_time": "2023-12-19T04:23:50.288594100Z",
          "start_time": "2023-12-19T04:23:50.284589500Z"
        },
        "id": "ebc222be7c187739"
      },
      "outputs": [],
      "source": [
        "# Define dataset\n",
        "class ScribbleDataset(Dataset):\n",
        "    def __init__(self, image_dir, xml_dir, xml_files, transform=None):\n",
        "        self.image_dir = image_dir\n",
        "        self.xml_files = xml_files\n",
        "        self.transform = transform\n",
        "        self.xml_dir = xml_dir\n",
        "\n",
        "    def __len__(self):\n",
        "        return len(self.xml_files)\n",
        "\n",
        "    def __getitem__(self, idx):\n",
        "        xml_file = self.xml_files[idx]\n",
        "        xml_path = os.path.join(self.xml_dir, xml_file)\n",
        "        image_path = os.path.join(self.image_dir, xml_file.replace(\".xml\", \".jpg\"))\n",
        "\n",
        "        filename, tensor_categories = read_scribble_xml(xml_path)\n",
        "        image = Image.open(image_path)\n",
        "\n",
        "        sample = {'filename':filename,'image': image, 'tensor_category': tensor_categories}\n",
        "\n",
        "        if self.transform:\n",
        "            sample = self.transform(sample)\n",
        "\n",
        "        return sample\n"
      ]
    },
    {
      "cell_type": "code",
      "execution_count": 17,
      "id": "d01eeb3821ffc4f8",
      "metadata": {
        "ExecuteTime": {
          "end_time": "2023-12-19T04:23:50.291594100Z",
          "start_time": "2023-12-19T04:23:50.286095500Z"
        },
        "id": "d01eeb3821ffc4f8"
      },
      "outputs": [],
      "source": [
        "class ToTensor(object):\n",
        "    def __call__(self, sample):\n",
        "        filename, image, tensor_categories = sample['filename'], sample['image'], sample['tensor_category']\n",
        "\n",
        "        # Convert image to tensor\n",
        "        image = transforms.Compose([\n",
        "            transforms.Resize((224, 224)),\n",
        "            transforms.ToTensor()])(image)\n",
        "\n",
        "        return {'filename':filename, 'image': image, 'tensor_category': tensor_categories}"
      ]
    },
    {
      "cell_type": "code",
      "execution_count": 18,
      "id": "c170f2412f1e9f42",
      "metadata": {
        "ExecuteTime": {
          "end_time": "2023-12-19T04:23:50.307904Z",
          "start_time": "2023-12-19T04:23:50.288594100Z"
        },
        "colab": {
          "base_uri": "https://localhost:8080/",
          "height": 242
        },
        "id": "c170f2412f1e9f42",
        "outputId": "7a4104f5-0c0c-412e-c102-387f584d9289"
      },
      "outputs": [
        {
          "ename": "FileNotFoundError",
          "evalue": "ignored",
          "output_type": "error",
          "traceback": [
            "\u001b[0;31m---------------------------------------------------------------------------\u001b[0m",
            "\u001b[0;31mFileNotFoundError\u001b[0m                         Traceback (most recent call last)",
            "\u001b[0;32m<ipython-input-18-ae487be90b1e>\u001b[0m in \u001b[0;36m<cell line: 4>\u001b[0;34m()\u001b[0m\n\u001b[1;32m      2\u001b[0m \u001b[0mxml_dir\u001b[0m \u001b[0;34m=\u001b[0m \u001b[0;34m\"scribble\"\u001b[0m\u001b[0;34m\u001b[0m\u001b[0;34m\u001b[0m\u001b[0m\n\u001b[1;32m      3\u001b[0m \u001b[0mimage_dir\u001b[0m \u001b[0;34m=\u001b[0m \u001b[0;34m\"train_JPEGImages\"\u001b[0m\u001b[0;34m\u001b[0m\u001b[0;34m\u001b[0m\u001b[0m\n\u001b[0;32m----> 4\u001b[0;31m \u001b[0mxml_list\u001b[0m \u001b[0;34m=\u001b[0m \u001b[0mos\u001b[0m\u001b[0;34m.\u001b[0m\u001b[0mlistdir\u001b[0m\u001b[0;34m(\u001b[0m\u001b[0mxml_dir\u001b[0m\u001b[0;34m)\u001b[0m\u001b[0;34m\u001b[0m\u001b[0;34m\u001b[0m\u001b[0m\n\u001b[0m\u001b[1;32m      5\u001b[0m \u001b[0mtransform\u001b[0m \u001b[0;34m=\u001b[0m \u001b[0mtransforms\u001b[0m\u001b[0;34m.\u001b[0m\u001b[0mCompose\u001b[0m\u001b[0;34m(\u001b[0m\u001b[0;34m[\u001b[0m\u001b[0mToTensor\u001b[0m\u001b[0;34m(\u001b[0m\u001b[0;34m)\u001b[0m\u001b[0;34m]\u001b[0m\u001b[0;34m)\u001b[0m\u001b[0;34m\u001b[0m\u001b[0;34m\u001b[0m\u001b[0m\n\u001b[1;32m      6\u001b[0m \u001b[0mtrain_data\u001b[0m\u001b[0;34m,\u001b[0m \u001b[0mval_data\u001b[0m \u001b[0;34m=\u001b[0m \u001b[0mtrain_test_split\u001b[0m\u001b[0;34m(\u001b[0m\u001b[0mxml_list\u001b[0m\u001b[0;34m,\u001b[0m \u001b[0mtest_size\u001b[0m\u001b[0;34m=\u001b[0m\u001b[0;36m0.1\u001b[0m\u001b[0;34m,\u001b[0m \u001b[0mrandom_state\u001b[0m\u001b[0;34m=\u001b[0m\u001b[0;36m1\u001b[0m\u001b[0;34m)\u001b[0m\u001b[0;34m\u001b[0m\u001b[0;34m\u001b[0m\u001b[0m\n",
            "\u001b[0;31mFileNotFoundError\u001b[0m: [Errno 2] No such file or directory: 'scribble'"
          ]
        }
      ],
      "source": [
        "# Set up dataset and dataloader\n",
        "xml_dir = \"scribble\"\n",
        "image_dir = \"train_JPEGImages\"\n",
        "xml_list = os.listdir(xml_dir)\n",
        "transform = transforms.Compose([ToTensor()])\n",
        "train_data, val_data = train_test_split(xml_list, test_size=0.1, random_state=1)\n",
        "train_dataset = ScribbleDataset(image_dir=image_dir, xml_dir=xml_dir, xml_files=train_data, transform=transform)\n",
        "val_dataset = ScribbleDataset(image_dir=image_dir, xml_dir=xml_dir, xml_files=val_data, transform=transform)\n",
        "train_dataloader = DataLoader(train_dataset, batch_size=16, shuffle=True)\n",
        "val_dataloader = DataLoader(val_dataset, batch_size=16, shuffle=False)"
      ]
    },
    {
      "cell_type": "markdown",
      "id": "a12f6a42",
      "metadata": {
        "id": "a12f6a42"
      },
      "source": [
        "### Define Models"
      ]
    },
    {
      "cell_type": "code",
      "execution_count": null,
      "id": "d85604ddeb079e6c",
      "metadata": {
        "ExecuteTime": {
          "end_time": "2023-12-19T04:23:50.311132200Z",
          "start_time": "2023-12-19T04:23:50.308904100Z"
        },
        "id": "d85604ddeb079e6c"
      },
      "outputs": [],
      "source": [
        "# Define the U-Net model\n",
        "class UNet(nn.Module):\n",
        "    def __init__(self, num_classes):\n",
        "        super(UNet, self).__init__()\n",
        "\n",
        "        resnet18 = models.resnet18(pretrained=True)\n",
        "        self.encoder = nn.Sequential(*list(resnet18.children())[:-2])\n",
        "\n",
        "        self.decoder = nn.Sequential(\n",
        "            nn.ConvTranspose2d(512, 256, kernel_size=2, stride=2),\n",
        "            nn.ReLU(inplace=True),\n",
        "            nn.Conv2d(256, 256, kernel_size=3, stride=1, padding=1),\n",
        "            nn.ReLU(inplace=True),\n",
        "\n",
        "            nn.ConvTranspose2d(256, 128, kernel_size=2, stride=2),\n",
        "            nn.ReLU(inplace=True),\n",
        "            nn.Conv2d(128, 128, kernel_size=3, stride=1, padding=1),\n",
        "            nn.ReLU(inplace=True),\n",
        "\n",
        "            nn.ConvTranspose2d(128, 64, kernel_size=2, stride=2),\n",
        "            nn.ReLU(inplace=True),\n",
        "            nn.Conv2d(64, 64, kernel_size=3, stride=1, padding=1),\n",
        "            nn.ReLU(inplace=True),\n",
        "\n",
        "            nn.Upsample(scale_factor=2, mode='bilinear', align_corners=False),\n",
        "\n",
        "            nn.ConvTranspose2d(64, num_classes, kernel_size=2, stride=2),\n",
        "            nn.Softmax(dim=1)\n",
        "        )\n",
        "\n",
        "    def forward(self, x):\n",
        "        x = self.encoder(x)\n",
        "        x = self.decoder(x)\n",
        "        return x"
      ]
    },
    {
      "cell_type": "code",
      "execution_count": null,
      "id": "37626899570d4e51",
      "metadata": {
        "ExecuteTime": {
          "end_time": "2023-12-19T04:23:50.317449200Z",
          "start_time": "2023-12-19T04:23:50.312293600Z"
        },
        "id": "37626899570d4e51"
      },
      "outputs": [],
      "source": [
        "# define cross entropy\n",
        "class Partial_Cross_Entropy(nn.Module):\n",
        "    def __init__(self):\n",
        "        super(Partial_Cross_Entropy, self).__init__()\n",
        "\n",
        "    def forward(self, predictions, scribbles, epsilon=1e-6):\n",
        "        predictions_clamped = torch.clamp(predictions, min=epsilon)\n",
        "\n",
        "        # Select the probabilities where there are scribbles\n",
        "        selected_probabilities = predictions_clamped[scribbles.bool()]\n",
        "\n",
        "        # Calculate the negative log likelihood\n",
        "        loss = -torch.log(selected_probabilities).mean()\n",
        "\n",
        "        return loss\n"
      ]
    },
    {
      "cell_type": "code",
      "execution_count": null,
      "id": "cad30d4369587b92",
      "metadata": {
        "ExecuteTime": {
          "end_time": "2023-12-19T04:23:50.317449200Z",
          "start_time": "2023-12-19T04:23:50.315943Z"
        },
        "id": "cad30d4369587b92"
      },
      "outputs": [],
      "source": [
        "class N_Link_Loss(nn.Module):\n",
        "    def __init__(self):\n",
        "        super(N_Link_Loss, self).__init__()\n",
        "\n",
        "    def forward(self, inputs, predication):\n",
        "        sigma_sqr = 0.0025\n",
        "        var_lambda = 100\n",
        "        #  Calculate link weight over the batch\n",
        "        n_right_weight = var_lambda*torch.exp(-torch.linalg.norm(torch.roll(inputs, shifts=1, dims=2) - inputs, dim=1) / (2*sigma_sqr))\n",
        "        n_below_weight = var_lambda*torch.exp(-torch.linalg.norm(torch.roll(inputs, shifts=1, dims=3) - inputs, dim=1) / (2*sigma_sqr))\n",
        "\n",
        "        n_link_weight = n_right_weight + n_below_weight\n",
        "\n",
        "        #  Calculate predication L2 norm over the batch\n",
        "        n_right_coherence = torch.linalg.norm(torch.roll(predication, shifts=1, dims=2) - predication, dim=1)\n",
        "        n_below_coherence = torch.linalg.norm(torch.roll(predication, shifts=1, dims=3) - predication, dim=1)\n",
        "        n_link_coherence = n_right_coherence + n_below_coherence\n",
        "\n",
        "        n_link_loss = (n_link_coherence*n_link_weight).sum()\n",
        "\n",
        "        return n_link_loss\n"
      ]
    },
    {
      "cell_type": "code",
      "execution_count": null,
      "id": "7d8d14bd92293e44",
      "metadata": {
        "ExecuteTime": {
          "end_time": "2023-12-19T04:23:50.326295800Z",
          "start_time": "2023-12-19T04:23:50.317449200Z"
        },
        "id": "7d8d14bd92293e44"
      },
      "outputs": [],
      "source": [
        "class PairwiseRegularizationLoss(nn.Module):\n",
        "    def __init__(self):\n",
        "        super(PairwiseRegularizationLoss, self).__init__()\n",
        "\n",
        "    def forward(self, input_img, output_img):\n",
        "        # Ensure input and output have the same spatial dimensions\n",
        "        assert input_img.shape[2:] == output_img.shape[2:], \"Input and output images must have the same spatial dimensions\"\n",
        "        var_lambda = 25\n",
        "        sigma_sqr = 0.0025\n",
        "        # Calculate pairwise differences for input and output images\n",
        "        right_diff_input = torch.roll(input_img, shifts=1, dims=3) - input_img\n",
        "        below_diff_input = torch.roll(input_img, shifts=1, dims=2) - input_img\n",
        "        top_diff_input = torch.roll(input_img, shifts=-1, dims=2) - input_img\n",
        "        left_diff_input = torch.roll(input_img, shifts=-1, dims=2) - input_img\n",
        "\n",
        "        right_diff_output = torch.roll(output_img, shifts=1, dims=3) - output_img\n",
        "        left_diff_output = torch.roll(output_img, shifts=-1, dims=3) - output_img\n",
        "        below_diff_output = torch.roll(output_img, shifts=1, dims=2) - output_img\n",
        "        top_diff_output = torch.roll(output_img, shifts=-1, dims=2) - output_img\n",
        "\n",
        "        # Calculate L2 norms\n",
        "        right_norm_input = var_lambda* torch.exp(-1 * torch.linalg.norm(right_diff_input, dim=1) / sigma_sqr)\n",
        "        below_norm_input = var_lambda* torch.exp(-1 * torch.linalg.norm(below_diff_input, dim=1) / sigma_sqr)\n",
        "        left_norm_input = var_lambda* torch.exp(-1 * torch.linalg.norm(left_diff_input, dim=1) / sigma_sqr)\n",
        "        top_norm_input = var_lambda* torch.exp(-1 * torch.linalg.norm(top_diff_input, dim=1) / sigma_sqr)\n",
        "\n",
        "        right_norm_output = torch.linalg.norm(right_diff_output, dim=1)\n",
        "        below_norm_output = torch.linalg.norm(below_diff_output, dim=1)\n",
        "        left_norm_output = torch.linalg.norm(left_diff_output, dim=1)\n",
        "        top_norm_output = torch.linalg.norm(top_diff_output, dim=1)\n",
        "\n",
        "        # Calculate weighted loss\n",
        "        loss = ((right_norm_output * right_norm_input) + (below_norm_output * below_norm_input) + (left_norm_output * left_norm_input) + (top_norm_output * top_norm_input)).mean()\n",
        "\n",
        "        return loss"
      ]
    },
    {
      "cell_type": "markdown",
      "id": "8ca512c5",
      "metadata": {
        "id": "8ca512c5"
      },
      "source": [
        "### Model Training"
      ]
    },
    {
      "cell_type": "code",
      "execution_count": null,
      "id": "eaf66f4bc98e230a",
      "metadata": {
        "ExecuteTime": {
          "end_time": "2023-12-19T04:23:50.404786500Z",
          "start_time": "2023-12-19T04:23:50.323295300Z"
        },
        "id": "eaf66f4bc98e230a"
      },
      "outputs": [],
      "source": [
        "# Initialize U-Net model\n",
        "in_channels = 3\n",
        "out_channels = 22  # Number of classes\n",
        "model_UNet = UNet(out_channels)\n",
        "num_epochs = 6\n",
        "\n",
        "# Define loss function and optimizer\n",
        "criterion_1 = nn.CrossEntropyLoss()\n",
        "criterion_2 = N_Link_Loss()\n",
        "criterion_3 = PairwiseRegularizationLoss()\n",
        "criterion_4 = Partial_Cross_Entropy()\n",
        "optimizer = optim.Adam(model_UNet.parameters(), lr=0.001)\n",
        "\n",
        "# Set device (GPU if available, otherwise CPU)\n",
        "device = \"cuda\" if torch.cuda.is_available() else \"mps\" if torch.backends.mps.is_available() else \"cpu\"\n",
        "print(device)\n",
        "model_UNet.to(device)"
      ]
    },
    {
      "cell_type": "code",
      "execution_count": null,
      "id": "dc624a1e2d20c08c",
      "metadata": {
        "ExecuteTime": {
          "end_time": "2023-12-19T04:23:50.409786300Z",
          "start_time": "2023-12-19T04:23:50.406581200Z"
        },
        "id": "dc624a1e2d20c08c"
      },
      "outputs": [],
      "source": [
        "# Train function for image dataset\n",
        "def train_image(model, dataloader, optimizer, device):\n",
        "    model.train()\n",
        "    num_batches = len(dataloader)\n",
        "    train_loss = 0\n",
        "    train_PCE_loss = 0\n",
        "    train_r_loss = 0\n",
        "\n",
        "    for batch in tqdm(dataloader, desc=f\"Epoch {epoch + 1}/{num_epochs}\"):\n",
        "        images, targets = batch['image'].to(device), batch['tensor_category'].to(device)\n",
        "        # Forward pass\n",
        "        outputs = model(images)\n",
        "        # Compute your loss based on the weak annotation\n",
        "        PCE_loss = criterion_4(outputs, targets)\n",
        "        r_loss= criterion_3(images, outputs)\n",
        "        loss = PCE_loss+r_loss\n",
        "        train_PCE_loss += PCE_loss.item()\n",
        "        train_r_loss += r_loss.item()\n",
        "        train_loss += loss.item()\n",
        "        #print(criterion_4(outputs, targets).item())\n",
        "        #print(criterion_3(images, outputs).item())\n",
        "        # Backward pass and optimization\n",
        "        optimizer.zero_grad()\n",
        "        loss.backward()\n",
        "        optimizer.step()\n",
        "\n",
        "    average_train_loss = train_loss / num_batches\n",
        "    average_PCE_loss = train_PCE_loss / num_batches\n",
        "    average_r_loss = train_r_loss / num_batches\n",
        "    return average_train_loss, average_PCE_loss, average_r_loss"
      ]
    },
    {
      "cell_type": "code",
      "execution_count": null,
      "id": "cc8d108b2f3579c2",
      "metadata": {
        "ExecuteTime": {
          "end_time": "2023-12-19T04:23:50.411292300Z",
          "start_time": "2023-12-19T04:23:50.408087600Z"
        },
        "id": "cc8d108b2f3579c2"
      },
      "outputs": [],
      "source": [
        "# Test function for image dataset\n",
        "def test_image(model, dataloader, device):\n",
        "    model.eval()\n",
        "    num_batches = len(dataloader)\n",
        "    test_loss = 0\n",
        "    test_PCE_loss = 0\n",
        "    test_r_loss = 0\n",
        "    with torch.no_grad():\n",
        "        for batch in tqdm(dataloader, desc=f\"Epoch {epoch + 1}/{num_epochs}\"):\n",
        "            images, targets = batch['image'].to(device), batch['tensor_category'].to(device)\n",
        "            outputs = model(images)\n",
        "\n",
        "            PCE_loss = criterion_4(outputs, targets)\n",
        "            r_loss= criterion_3(images, outputs)\n",
        "            loss = PCE_loss+r_loss\n",
        "\n",
        "            test_PCE_loss += PCE_loss.item()\n",
        "            test_r_loss += r_loss.item()\n",
        "            test_loss += loss.item()\n",
        "\n",
        "    average_test_loss = test_loss / num_batches\n",
        "    average_PCE_loss = test_PCE_loss / num_batches\n",
        "    average_r_loss = test_r_loss / num_batches\n",
        "    return average_test_loss, average_PCE_loss, average_r_loss"
      ]
    },
    {
      "cell_type": "code",
      "execution_count": null,
      "id": "cc34186505a36c6e",
      "metadata": {
        "ExecuteTime": {
          "end_time": "2023-12-19T04:34:04.145192Z",
          "start_time": "2023-12-19T04:23:50.412292Z"
        },
        "id": "cc34186505a36c6e",
        "scrolled": false
      },
      "outputs": [],
      "source": [
        "# Training loop\n",
        "for epoch in range(num_epochs):\n",
        "    train_loss, train_PCE_loss, train_r_loss = train_image(model_UNet, train_dataloader, optimizer, device)\n",
        "    validation_loss, test_PCE_loss, test_r_loss = test_image(model_UNet, val_dataloader, device)\n",
        "\n",
        "    print(f\"Epoch [{epoch + 1}/{num_epochs}]\")\n",
        "    print(f\"Train Loss: {train_loss:.4f} PCE Loss: {train_PCE_loss:.4f} Regularization Loss: {train_r_loss:.4f}\")\n",
        "    print(f\"Validation Loss: {validation_loss:.4f} PCE Loss: {test_PCE_loss:.4f} Regularization Loss: {test_r_loss:.4f}\")\n",
        "\n",
        "# Save or use the trained model for inference\n",
        "torch.save(model_UNet.state_dict(), 'seeds_weakly_supervised_segmentation_model.pth')"
      ]
    },
    {
      "cell_type": "markdown",
      "id": "7379365e",
      "metadata": {
        "id": "7379365e"
      },
      "source": [
        "### Visualize results"
      ]
    },
    {
      "cell_type": "code",
      "execution_count": null,
      "id": "7b1f1622dfa280f8",
      "metadata": {
        "ExecuteTime": {
          "end_time": "2023-12-19T04:34:04.149219400Z",
          "start_time": "2023-12-19T04:34:04.146191900Z"
        },
        "id": "7b1f1622dfa280f8"
      },
      "outputs": [],
      "source": [
        "class_list = [i for i in range(1, 22)]\n",
        "pascal_voc_colors = [\n",
        "    \"#FF0000\",  # Red\n",
        "    \"#00FF00\",  # Lime\n",
        "    \"#0000FF\",  # Blue\n",
        "    \"#FFFF00\",  # Yellow\n",
        "    \"#00FFFF\",  # Cyan\n",
        "    \"#FF00FF\",  # Magenta\n",
        "    \"#800000\",  # Maroon\n",
        "    \"#808000\",  # Olive\n",
        "    \"#008000\",  # Green\n",
        "    \"#800080\",  # Purple\n",
        "    \"#008080\",  # Teal\n",
        "    \"#000080\",  # Navy\n",
        "    \"#FFA500\",  # Orange\n",
        "    \"#A52A2A\",  # Brown\n",
        "    \"#20B2AA\",  # Light Sea Green\n",
        "    \"#778899\",  # Light Slate Gray\n",
        "    \"#B0C4DE\",  # Light Steel Blue\n",
        "    \"#FFFFE0\",  # Light Yellow\n",
        "    \"#00FA9A\",  # Medium Spring Green\n",
        "    \"#FFD700\",  # Gold\n",
        "    \"#000000\",  # black\n",
        "    \"#FF69B4\"   # Hot Pink\n",
        "]\n",
        "print(len(pascal_voc_colors))\n",
        "cmap = mcolors.LinearSegmentedColormap.from_list(class_list, pascal_voc_colors)"
      ]
    },
    {
      "cell_type": "code",
      "execution_count": null,
      "id": "48db38eb7fbce755",
      "metadata": {
        "ExecuteTime": {
          "end_time": "2023-12-19T04:34:04.150220600Z",
          "start_time": "2023-12-19T04:34:04.148208400Z"
        },
        "id": "48db38eb7fbce755"
      },
      "outputs": [],
      "source": [
        "print(class_mapping)"
      ]
    },
    {
      "cell_type": "code",
      "execution_count": null,
      "id": "4cef312a9b45ac94",
      "metadata": {
        "ExecuteTime": {
          "end_time": "2023-12-19T04:35:06.862845200Z",
          "start_time": "2023-12-19T04:35:06.771036100Z"
        },
        "id": "4cef312a9b45ac94"
      },
      "outputs": [],
      "source": [
        "model_UNet.eval()\n",
        "image_number = 123\n",
        "tensor = model_UNet(val_dataset[image_number]['image'].to(device).unsqueeze(0)).squeeze(0)\n",
        "normalized_tensor = (tensor - tensor.min()) / (tensor.max() - tensor.min())\n",
        "predicted_classes = torch.argmax(tensor, dim=0)\n",
        "plt.imshow(predicted_classes.cpu(), cmap=cmap)\n",
        "print(predicted_classes[125][50])\n",
        "#plt.imshow(val_dataset[3]['image'].permute(1, 2, 0).numpy())\n",
        "plt.colorbar()\n",
        "plt.show()"
      ]
    },
    {
      "cell_type": "code",
      "execution_count": null,
      "id": "cfc18d0358e20ce7",
      "metadata": {
        "ExecuteTime": {
          "end_time": "2023-12-19T04:35:10.641184500Z",
          "start_time": "2023-12-19T04:35:10.524149400Z"
        },
        "id": "cfc18d0358e20ce7"
      },
      "outputs": [],
      "source": [
        "plt.imshow(val_dataset[image_number]['image'].permute(1, 2, 0).numpy())\n",
        "print(val_dataset[image_number]['filename'])\n",
        "#print(val_dataset[3]['tensor_category'])"
      ]
    },
    {
      "cell_type": "markdown",
      "id": "12cdf17dbf4ed9ec",
      "metadata": {
        "id": "12cdf17dbf4ed9ec"
      },
      "source": [
        "Document: Number of epoch, choice of CNN model, loss function, loss function parameter, xml read, resize of image (toTensor), load dataset, train and test,"
      ]
    },
    {
      "cell_type": "markdown",
      "id": "cd9c09d1",
      "metadata": {
        "id": "cd9c09d1"
      },
      "source": [
        "## Weakly-supervised Semantic Segmentation with Boxes"
      ]
    },
    {
      "cell_type": "code",
      "execution_count": 20,
      "id": "66458117",
      "metadata": {
        "id": "66458117"
      },
      "outputs": [],
      "source": [
        "import numpy as np\n",
        "import torch\n",
        "import torch.nn as nn\n",
        "import torchvision.transforms as transforms\n",
        "from torch.utils.data import DataLoader\n",
        "from torchvision.datasets import VOCDetection\n",
        "from torchvision import models\n",
        "import matplotlib.pyplot as plt\n",
        "from PIL import Image"
      ]
    },
    {
      "cell_type": "code",
      "execution_count": 21,
      "id": "aJhyqov6RZmP",
      "metadata": {
        "id": "aJhyqov6RZmP"
      },
      "outputs": [],
      "source": [
        "class_mapping = {\n",
        "  'person': 1,\n",
        "  'bird': 2,\n",
        "  'cat': 3,\n",
        "  'cow': 4,\n",
        "  'dog': 5,\n",
        "  'horse': 6,\n",
        "  'sheep': 7,\n",
        "  'aeroplane': 8,\n",
        "  'bicycle': 9,\n",
        "  'boat': 10,\n",
        "  'bus': 11,\n",
        "  'car': 12,\n",
        "  'motorbike': 13,\n",
        "  'train': 14,\n",
        "  'bottle': 15,\n",
        "  'chair': 16,\n",
        "  'diningtable': 17,\n",
        "  'pottedplant': 18,\n",
        "  'sofa': 19,\n",
        "  'tvmonitor': 20,\n",
        "  'background': 0\n",
        "}"
      ]
    },
    {
      "cell_type": "code",
      "execution_count": 22,
      "id": "2a3814b6",
      "metadata": {
        "id": "2a3814b6"
      },
      "outputs": [],
      "source": [
        "def to_target_tensor(num_classes, annotation_dict):\n",
        "    # Extract image size information\n",
        "    width = int(annotation_dict['annotation']['size']['width'])\n",
        "    height = int(annotation_dict['annotation']['size']['height'])\n",
        "\n",
        "    # Extract bounding box information\n",
        "    tensor_categories = torch.zeros((21, 224, 224))\n",
        "    tensor_categories[0, :, :] = 1\n",
        "    for obj in annotation_dict['annotation']['object']:\n",
        "        xmin = int((int(obj['bndbox']['xmin']) / width) * 224)\n",
        "        ymin = int((int(obj['bndbox']['ymin']) / height) * 224)\n",
        "        xmax = int((int(obj['bndbox']['xmax']) / width) * 224)\n",
        "        ymax = int((int(obj['bndbox']['ymax']) / height) * 224)\n",
        "        tensor_categories[class_mapping[obj['name']], ymin:ymax+1, xmin:xmax+1] = 1\n",
        "        tensor_categories[0, ymin:ymax+1, xmin:xmax+1] = 0\n",
        "\n",
        "    return tensor_categories"
      ]
    },
    {
      "cell_type": "code",
      "execution_count": 23,
      "id": "8934bb4d",
      "metadata": {
        "colab": {
          "base_uri": "https://localhost:8080/"
        },
        "id": "8934bb4d",
        "outputId": "e435e785-42fe-44fc-bbe9-a4d0701efcc7"
      },
      "outputs": [
        {
          "name": "stdout",
          "output_type": "stream",
          "text": [
            "Using downloaded and verified file: ./data/VOCtrainval_11-May-2012.tar\n",
            "Extracting ./data/VOCtrainval_11-May-2012.tar to ./data\n",
            "torch.Size([21, 224, 224])\n"
          ]
        }
      ],
      "source": [
        "# Instantiate your weakly supervised dataset\n",
        "# YourWeaklySupervisedDataset should provide images and their weak annotations\n",
        "# You need to implement this dataset class\n",
        "num_classes = 20\n",
        "# Create a DataLoader for training\n",
        "transform = transforms.Compose([\n",
        "    transforms.Resize((224, 224)),\n",
        "    transforms.ToTensor(),\n",
        "    transforms.Normalize(mean = [0.485, 0.456, 0.406], std = [0.229, 0.224, 0.225])\n",
        "])\n",
        "target_transform = transforms.Compose([\n",
        "    transforms.Lambda(lambda x: to_target_tensor(num_classes, x))\n",
        "])\n",
        "train_dataset = VOCDetection(root='./data', year='2012', image_set='train', download=True, transform=transform, target_transform=target_transform)\n",
        "print(train_dataset[0][1].shape)\n",
        "train_loader = DataLoader(train_dataset, batch_size=64, shuffle=True)"
      ]
    },
    {
      "cell_type": "code",
      "execution_count": 6,
      "id": "60d269c0",
      "metadata": {
        "id": "60d269c0"
      },
      "outputs": [],
      "source": [
        "def f_score(pr, gt, beta=1, eps=1e-7, threshold=None, activation='sigmoid'):\n",
        "    \"\"\"\n",
        "    Args:\n",
        "        pr (torch.Tensor): A list of predicted elements\n",
        "        gt (torch.Tensor):  A list of elements that are to be predicted\n",
        "        eps (float): epsilon to avoid zero division\n",
        "        threshold: threshold for outputs binarization\n",
        "    Returns:\n",
        "        float: IoU (Jaccard) score\n",
        "    \"\"\"\n",
        "\n",
        "    if activation is None or activation == \"none\":\n",
        "        activation_fn = lambda x: x\n",
        "    elif activation == \"sigmoid\":\n",
        "        activation_fn = torch.nn.Sigmoid()\n",
        "    elif activation == \"softmax2d\":\n",
        "        activation_fn = torch.nn.Softmax2d()\n",
        "    else:\n",
        "        raise NotImplementedError(\n",
        "            \"Activation implemented for sigmoid and softmax2d\"\n",
        "        )\n",
        "\n",
        "    pr = activation_fn(pr)\n",
        "\n",
        "    if threshold is not None:\n",
        "        pr = (pr > threshold).float()\n",
        "\n",
        "\n",
        "    tp = torch.sum(gt * pr)\n",
        "    fp = torch.sum(pr) - tp\n",
        "    fn = torch.sum(gt) - tp\n",
        "\n",
        "    score = ((1 + beta ** 2) * tp + eps) \\\n",
        "            / ((1 + beta ** 2) * tp + beta ** 2 * fn + fp + eps)\n",
        "\n",
        "    return score\n",
        "\n",
        "\n",
        "class DiceLoss(nn.Module):\n",
        "    __name__ = 'dice_loss'\n",
        "\n",
        "    def __init__(self, eps=1e-7, activation='sigmoid'):\n",
        "        super().__init__()\n",
        "        self.activation = activation\n",
        "        self.eps = eps\n",
        "\n",
        "    def forward(self, y_pr, y_gt):\n",
        "        return 1 - f_score(y_pr, y_gt, beta=1.,\n",
        "                           eps=self.eps, threshold=None,\n",
        "                           activation=self.activation)\n",
        "\n",
        "\n",
        "class BCEDiceLoss(DiceLoss):\n",
        "    __name__ = 'bce_dice_loss'\n",
        "\n",
        "    def __init__(self, eps=1e-7, activation='sigmoid', lambda_dice=1.0, lambda_bce=1.0):\n",
        "        super().__init__(eps, activation)\n",
        "        if activation == None:\n",
        "            self.bce = nn.BCELoss(reduction='mean')\n",
        "        else:\n",
        "            self.bce = nn.BCEWithLogitsLoss(reduction='mean')\n",
        "        self.lambda_dice=lambda_dice\n",
        "        self.lambda_bce=lambda_bce\n",
        "\n",
        "    def forward(self, y_pr, y_gt):\n",
        "        dice = super().forward(y_pr, y_gt)\n",
        "        bce = self.bce(y_pr, y_gt)\n",
        "        return (self.lambda_dice*dice) + (self.lambda_bce* bce)"
      ]
    },
    {
      "cell_type": "code",
      "execution_count": 27,
      "id": "2fcb2314",
      "metadata": {
        "id": "2fcb2314"
      },
      "outputs": [],
      "source": [
        "# Set your device\n",
        "device = torch.device(\"cuda\" if torch.cuda.is_available() else \"cpu\")\n",
        "\n",
        "# Instantiate the model\n",
        "model = UNet(num_classes=21).to(device)\n",
        "\n",
        "# Define your loss function and optimizer\n",
        "criterion = nn.CrossEntropyLoss()\n",
        "criterion2 = BCEDiceLoss(eps=1.0, activation=None)\n",
        "criterion3 = Partial_Cross_Entropy()\n",
        "optimizer = torch.optim.Adam(model.parameters(), lr=0.0005)\n",
        "scheduler = torch.optim.lr_scheduler.ReduceLROnPlateau(optimizer, factor=0.2, patience=2, cooldown=2)"
      ]
    },
    {
      "cell_type": "code",
      "execution_count": 28,
      "id": "7564af3a",
      "metadata": {
        "colab": {
          "base_uri": "https://localhost:8080/"
        },
        "id": "7564af3a",
        "outputId": "ee62865e-8859-4ed6-f0bb-638dbd154a92"
      },
      "outputs": [
        {
          "name": "stdout",
          "output_type": "stream",
          "text": [
            "Epoch [1/20], Loss: 1.6348\n",
            "Epoch [2/20], Loss: 1.5021\n",
            "Epoch [3/20], Loss: 1.3784\n",
            "Epoch [4/20], Loss: 1.2675\n",
            "Epoch [5/20], Loss: 1.1773\n",
            "Epoch [6/20], Loss: 0.8624\n",
            "Epoch [7/20], Loss: 1.0698\n",
            "Epoch [8/20], Loss: 0.8065\n",
            "Epoch [9/20], Loss: 0.6558\n",
            "Epoch [10/20], Loss: 0.7180\n",
            "Epoch [11/20], Loss: 0.5911\n",
            "Epoch [12/20], Loss: 0.4216\n",
            "Epoch [13/20], Loss: 0.4780\n",
            "Epoch [14/20], Loss: 0.4873\n",
            "Epoch [15/20], Loss: 0.3140\n",
            "Epoch [16/20], Loss: 0.5096\n",
            "Epoch [17/20], Loss: 0.3103\n",
            "Epoch [18/20], Loss: 0.2428\n",
            "Epoch [19/20], Loss: 0.3117\n",
            "Epoch [20/20], Loss: 0.1853\n"
          ]
        }
      ],
      "source": [
        "# Training loop\n",
        "num_epochs = 20\n",
        "for epoch in range(num_epochs):\n",
        "    for images, annotations in train_loader:\n",
        "        images, annotations = images.to(device), annotations.to(device)\n",
        "\n",
        "        # Forward pass\n",
        "        outputs = model(images)\n",
        "        # Compute your loss based on the weak annotations\n",
        "        loss = criterion3(outputs, annotations)\n",
        "\n",
        "        # Backward pass and optimization\n",
        "        optimizer.zero_grad()\n",
        "        loss.backward()\n",
        "        optimizer.step()\n",
        "\n",
        "    print(f\"Epoch [{epoch + 1}/{num_epochs}], Loss: {loss.item():.4f}\")\n",
        "\n",
        "# Save or use the trained model for inference\n",
        "torch.save(model.state_dict(), 'weakly_supervised_segmentation_model.pth')"
      ]
    },
    {
      "cell_type": "code",
      "execution_count": 30,
      "id": "hbax1Db0o-Zl",
      "metadata": {
        "colab": {
          "base_uri": "https://localhost:8080/"
        },
        "id": "hbax1Db0o-Zl",
        "outputId": "985c7f64-d492-4c23-a6ac-d0c241ee1a6a"
      },
      "outputs": [
        {
          "name": "stdout",
          "output_type": "stream",
          "text": [
            "Downloading http://host.robots.ox.ac.uk/pascal/VOC/voc2012/VOCtrainval_11-May-2012.tar to ./test/VOCtrainval_11-May-2012.tar\n"
          ]
        },
        {
          "name": "stderr",
          "output_type": "stream",
          "text": [
            "100%|██████████| 1999639040/1999639040 [01:51<00:00, 17909406.32it/s]\n"
          ]
        },
        {
          "name": "stdout",
          "output_type": "stream",
          "text": [
            "Extracting ./test/VOCtrainval_11-May-2012.tar to ./test\n"
          ]
        }
      ],
      "source": [
        "from torchvision.datasets import VOCSegmentation\n",
        "\n",
        "voc_test_dataset = VOCSegmentation(root='./test', image_set='val', download=True, transform=transform)\n",
        "\n",
        "# Create a DataLoader for the test dataset\n",
        "test_dataloader = DataLoader(voc_test_dataset, batch_size=1, shuffle=False)"
      ]
    },
    {
      "cell_type": "markdown",
      "id": "U53elNGdrrBZ",
      "metadata": {
        "id": "U53elNGdrrBZ"
      },
      "source": []
    },
    {
      "cell_type": "code",
      "execution_count": 45,
      "id": "84f34109",
      "metadata": {
        "colab": {
          "base_uri": "https://localhost:8080/",
          "height": 420
        },
        "id": "84f34109",
        "outputId": "fc28dbd6-a48a-41ab-b20a-732cd4cec5c1"
      },
      "outputs": [
        {
          "name": "stdout",
          "output_type": "stream",
          "text": [
            "(21, 224, 224)\n"
          ]
        },
        {
          "name": "stderr",
          "output_type": "stream",
          "text": [
            "WARNING:matplotlib.image:Clipping input data to the valid range for imshow with RGB data ([0..1] for floats or [0..255] for integers).\n"
          ]
        },
        {
          "data": {
            "image/png": "[encoded data removed]",
            "text/plain": [
              "<Figure size 1000x500 with 3 Axes>"
            ]
          },
          "metadata": {},
          "output_type": "display_data"
        }
      ],
      "source": [
        "from torchvision.transforms import ToPILImage\n",
        "from PIL import Image\n",
        "\n",
        "tensor = model(voc_test_dataset[1000][0].unsqueeze(0).to('cuda')).squeeze(0)\n",
        "normalized_tensor = ((tensor - tensor.min()) / (tensor.max() - tensor.min())).cpu().detach().numpy()\n",
        "\n",
        "output = np.argmax(normalized_tensor, axis=0)\n",
        "target = torch.argmax(train_dataset[2][1], dim=0).numpy()\n",
        "print(normalized_tensor.shape)\n",
        "\n",
        "fig, axes = plt.subplots(1, 3, figsize=(10, 5))\n",
        "\n",
        "axes[0].imshow(output)\n",
        "axes[0].set_title('Predicted Segmentation')\n",
        "\n",
        "# Display the second image on the second subplot\n",
        "axes[1].imshow(voc_test_dataset[1000][1])\n",
        "axes[1].set_title('Ground Truth')\n",
        "\n",
        "axes[2].imshow(np.transpose(voc_test_dataset[1000][0], (1, 2, 0)))\n",
        "axes[2].set_title('Original Image')\n",
        "\n",
        "plt.show()"
      ]
    },
    {
      "cell_type": "markdown",
      "id": "d3782076",
      "metadata": {
        "id": "d3782076"
      },
      "source": [
        "### Conclusion"
      ]
    },
    {
      "cell_type": "code",
      "execution_count": null,
      "id": "25c6c97c",
      "metadata": {
        "id": "25c6c97c"
      },
      "outputs": [],
      "source": []
    }
  ],
  "metadata": {
    "accelerator": "GPU",
    "colab": {
      "gpuType": "T4",
      "provenance": []
    },
    "kernelspec": {
      "display_name": "Python 3",
      "name": "python3"
    },
    "language_info": {
      "codemirror_mode": {
        "name": "ipython",
        "version": 3
      },
      "file_extension": ".py",
      "mimetype": "text/x-python",
      "name": "python",
      "nbconvert_exporter": "python",
      "pygments_lexer": "ipython3",
      "version": "3.9.12"
    }
  },
  "nbformat": 4,
  "nbformat_minor": 5
}
